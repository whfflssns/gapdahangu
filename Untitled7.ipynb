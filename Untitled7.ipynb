{
  "nbformat": 4,
  "nbformat_minor": 0,
  "metadata": {
    "colab": {
      "name": "Untitled7.ipynb",
      "provenance": [],
      "mount_file_id": "15TcevuZeH-srCAZbjpgv3mBzJh5lZ2zS",
      "authorship_tag": "ABX9TyOPn5l5OuXEcd+SqKuLEzgq",
      "include_colab_link": true
    },
    "kernelspec": {
      "name": "python3",
      "display_name": "Python 3"
    }
  },
  "cells": [
    {
      "cell_type": "markdown",
      "metadata": {
        "id": "view-in-github",
        "colab_type": "text"
      },
      "source": [
        "<a href=\"https://colab.research.google.com/github/whfflssns/gapdahangu/blob/master/Untitled7.ipynb\" target=\"_parent\"><img src=\"https://colab.research.google.com/assets/colab-badge.svg\" alt=\"Open In Colab\"/></a>"
      ]
    },
    {
      "cell_type": "markdown",
      "metadata": {
        "id": "vVTj-le04xpA",
        "colab_type": "text"
      },
      "source": [
        "### imdb 데이터 셋 로드하기"
      ]
    },
    {
      "cell_type": "code",
      "metadata": {
        "id": "9o754sIa39f2",
        "colab_type": "code",
        "outputId": "a659226a-aa44-4b06-d224-72b00f57fd59",
        "colab": {
          "base_uri": "https://localhost:8080/",
          "height": 71
        }
      },
      "source": [
        "from keras.datasets import imdb\n",
        "\n",
        "(train_data, train_labels), (test_data, test_labels) = imdb.load_data(num_words=10000)"
      ],
      "execution_count": 1,
      "outputs": [
        {
          "output_type": "stream",
          "text": [
            "Using TensorFlow backend.\n"
          ],
          "name": "stderr"
        },
        {
          "output_type": "stream",
          "text": [
            "Downloading data from https://s3.amazonaws.com/text-datasets/imdb.npz\n",
            "17465344/17464789 [==============================] - 2s 0us/step\n"
          ],
          "name": "stdout"
        }
      ]
    },
    {
      "cell_type": "markdown",
      "metadata": {
        "id": "6Df-sbQl5E1s",
        "colab_type": "text"
      },
      "source": [
        "###train_data와 train_labels에 어떤 값이 들어가는지 확인해보기"
      ]
    },
    {
      "cell_type": "code",
      "metadata": {
        "id": "ecSfyxAy4ck5",
        "colab_type": "code",
        "outputId": "b4d13631-bdb9-4eef-f4d8-c5af1559d48c",
        "colab": {
          "base_uri": "https://localhost:8080/",
          "height": 1000
        }
      },
      "source": [
        "train_data[0]"
      ],
      "execution_count": 2,
      "outputs": [
        {
          "output_type": "execute_result",
          "data": {
            "text/plain": [
              "[1,\n",
              " 14,\n",
              " 22,\n",
              " 16,\n",
              " 43,\n",
              " 530,\n",
              " 973,\n",
              " 1622,\n",
              " 1385,\n",
              " 65,\n",
              " 458,\n",
              " 4468,\n",
              " 66,\n",
              " 3941,\n",
              " 4,\n",
              " 173,\n",
              " 36,\n",
              " 256,\n",
              " 5,\n",
              " 25,\n",
              " 100,\n",
              " 43,\n",
              " 838,\n",
              " 112,\n",
              " 50,\n",
              " 670,\n",
              " 2,\n",
              " 9,\n",
              " 35,\n",
              " 480,\n",
              " 284,\n",
              " 5,\n",
              " 150,\n",
              " 4,\n",
              " 172,\n",
              " 112,\n",
              " 167,\n",
              " 2,\n",
              " 336,\n",
              " 385,\n",
              " 39,\n",
              " 4,\n",
              " 172,\n",
              " 4536,\n",
              " 1111,\n",
              " 17,\n",
              " 546,\n",
              " 38,\n",
              " 13,\n",
              " 447,\n",
              " 4,\n",
              " 192,\n",
              " 50,\n",
              " 16,\n",
              " 6,\n",
              " 147,\n",
              " 2025,\n",
              " 19,\n",
              " 14,\n",
              " 22,\n",
              " 4,\n",
              " 1920,\n",
              " 4613,\n",
              " 469,\n",
              " 4,\n",
              " 22,\n",
              " 71,\n",
              " 87,\n",
              " 12,\n",
              " 16,\n",
              " 43,\n",
              " 530,\n",
              " 38,\n",
              " 76,\n",
              " 15,\n",
              " 13,\n",
              " 1247,\n",
              " 4,\n",
              " 22,\n",
              " 17,\n",
              " 515,\n",
              " 17,\n",
              " 12,\n",
              " 16,\n",
              " 626,\n",
              " 18,\n",
              " 2,\n",
              " 5,\n",
              " 62,\n",
              " 386,\n",
              " 12,\n",
              " 8,\n",
              " 316,\n",
              " 8,\n",
              " 106,\n",
              " 5,\n",
              " 4,\n",
              " 2223,\n",
              " 5244,\n",
              " 16,\n",
              " 480,\n",
              " 66,\n",
              " 3785,\n",
              " 33,\n",
              " 4,\n",
              " 130,\n",
              " 12,\n",
              " 16,\n",
              " 38,\n",
              " 619,\n",
              " 5,\n",
              " 25,\n",
              " 124,\n",
              " 51,\n",
              " 36,\n",
              " 135,\n",
              " 48,\n",
              " 25,\n",
              " 1415,\n",
              " 33,\n",
              " 6,\n",
              " 22,\n",
              " 12,\n",
              " 215,\n",
              " 28,\n",
              " 77,\n",
              " 52,\n",
              " 5,\n",
              " 14,\n",
              " 407,\n",
              " 16,\n",
              " 82,\n",
              " 2,\n",
              " 8,\n",
              " 4,\n",
              " 107,\n",
              " 117,\n",
              " 5952,\n",
              " 15,\n",
              " 256,\n",
              " 4,\n",
              " 2,\n",
              " 7,\n",
              " 3766,\n",
              " 5,\n",
              " 723,\n",
              " 36,\n",
              " 71,\n",
              " 43,\n",
              " 530,\n",
              " 476,\n",
              " 26,\n",
              " 400,\n",
              " 317,\n",
              " 46,\n",
              " 7,\n",
              " 4,\n",
              " 2,\n",
              " 1029,\n",
              " 13,\n",
              " 104,\n",
              " 88,\n",
              " 4,\n",
              " 381,\n",
              " 15,\n",
              " 297,\n",
              " 98,\n",
              " 32,\n",
              " 2071,\n",
              " 56,\n",
              " 26,\n",
              " 141,\n",
              " 6,\n",
              " 194,\n",
              " 7486,\n",
              " 18,\n",
              " 4,\n",
              " 226,\n",
              " 22,\n",
              " 21,\n",
              " 134,\n",
              " 476,\n",
              " 26,\n",
              " 480,\n",
              " 5,\n",
              " 144,\n",
              " 30,\n",
              " 5535,\n",
              " 18,\n",
              " 51,\n",
              " 36,\n",
              " 28,\n",
              " 224,\n",
              " 92,\n",
              " 25,\n",
              " 104,\n",
              " 4,\n",
              " 226,\n",
              " 65,\n",
              " 16,\n",
              " 38,\n",
              " 1334,\n",
              " 88,\n",
              " 12,\n",
              " 16,\n",
              " 283,\n",
              " 5,\n",
              " 16,\n",
              " 4472,\n",
              " 113,\n",
              " 103,\n",
              " 32,\n",
              " 15,\n",
              " 16,\n",
              " 5345,\n",
              " 19,\n",
              " 178,\n",
              " 32]"
            ]
          },
          "metadata": {
            "tags": []
          },
          "execution_count": 2
        }
      ]
    },
    {
      "cell_type": "code",
      "metadata": {
        "id": "1UAndHtB4fMj",
        "colab_type": "code",
        "outputId": "b7bc85ae-084c-41cd-eb31-8cfbbc24ff31",
        "colab": {
          "base_uri": "https://localhost:8080/",
          "height": 35
        }
      },
      "source": [
        "train_labels[0]"
      ],
      "execution_count": 3,
      "outputs": [
        {
          "output_type": "execute_result",
          "data": {
            "text/plain": [
              "1"
            ]
          },
          "metadata": {
            "tags": []
          },
          "execution_count": 3
        }
      ]
    },
    {
      "cell_type": "markdown",
      "metadata": {
        "id": "Oj6TeknJ5Meg",
        "colab_type": "text"
      },
      "source": [
        "### 단어 인덱스의 최대가 얼마인지 확인"
      ]
    },
    {
      "cell_type": "code",
      "metadata": {
        "id": "m4mwWZ3I4hro",
        "colab_type": "code",
        "outputId": "a403ee5a-7517-4c1c-9689-8ce4f9649400",
        "colab": {
          "base_uri": "https://localhost:8080/",
          "height": 35
        }
      },
      "source": [
        "max([max(sequence) for sequence in train_data])"
      ],
      "execution_count": 4,
      "outputs": [
        {
          "output_type": "execute_result",
          "data": {
            "text/plain": [
              "9999"
            ]
          },
          "metadata": {
            "tags": []
          },
          "execution_count": 4
        }
      ]
    },
    {
      "cell_type": "markdown",
      "metadata": {
        "id": "xP0PO2LO5UK6",
        "colab_type": "text"
      },
      "source": [
        "### 단어와 정수 인덱스를 매핑한 딕셔너리를 불러오고 확인해보기"
      ]
    },
    {
      "cell_type": "code",
      "metadata": {
        "id": "DN_pu7V24n2u",
        "colab_type": "code",
        "outputId": "b7879d22-d311-4cc0-ef2e-4e4291213aed",
        "colab": {
          "base_uri": "https://localhost:8080/",
          "height": 53
        }
      },
      "source": [
        "word_index = imdb.get_word_index()"
      ],
      "execution_count": 5,
      "outputs": [
        {
          "output_type": "stream",
          "text": [
            "Downloading data from https://s3.amazonaws.com/text-datasets/imdb_word_index.json\n",
            "1646592/1641221 [==============================] - 1s 1us/step\n"
          ],
          "name": "stdout"
        }
      ]
    },
    {
      "cell_type": "markdown",
      "metadata": {
        "id": "E9MmJ3HY6-hz",
        "colab_type": "text"
      },
      "source": [
        "### 정수 인덱스와 단어를 매핑하도록 뒤집기"
      ]
    },
    {
      "cell_type": "code",
      "metadata": {
        "id": "1lLeSKjZ55nP",
        "colab_type": "code",
        "colab": {}
      },
      "source": [
        "reverse_word_index = dict([(value, key) for (key, value) in word_index.items()])"
      ],
      "execution_count": 0,
      "outputs": []
    },
    {
      "cell_type": "markdown",
      "metadata": {
        "id": "NWSvKd9R7j-K",
        "colab_type": "text"
      },
      "source": [
        "### 리뷰 디코딩하기, 0, 1, 2는 '패딩', '문서 시작', '사전에 없음'을 위한 인덱스이므로 3을 빼기"
      ]
    },
    {
      "cell_type": "code",
      "metadata": {
        "id": "j31b1KsT6kzi",
        "colab_type": "code",
        "colab": {}
      },
      "source": [
        "decoded_review = ' '.join([reverse_word_index.get(i-3, '?') for i in train_data[0]])"
      ],
      "execution_count": 0,
      "outputs": []
    },
    {
      "cell_type": "code",
      "metadata": {
        "id": "T43CLhSD7FIr",
        "colab_type": "code",
        "outputId": "5ae03c70-0e89-43df-bdde-700b291d7c91",
        "colab": {
          "base_uri": "https://localhost:8080/",
          "height": 55
        }
      },
      "source": [
        "decoded_review"
      ],
      "execution_count": 8,
      "outputs": [
        {
          "output_type": "execute_result",
          "data": {
            "text/plain": [
              "\"? this film was just brilliant casting location scenery story direction everyone's really suited the part they played and you could just imagine being there robert ? is an amazing actor and now the same being director ? father came from the same scottish island as myself so i loved the fact there was a real connection with this film the witty remarks throughout the film were great it was just brilliant so much that i bought the film as soon as it was released for ? and would recommend it to everyone to watch and the fly fishing was amazing really cried at the end it was so sad and you know what they say if you cry at a film it must have been good and this definitely was also ? to the two little boy's that played the ? of norman and paul they were just brilliant children are often left out of the ? list i think because the stars that play them all grown up are such a big profile for the whole film but these children are amazing and should be praised for what they have done don't you think the whole story was so lovely because it was true and was someone's life after all that was shared with us all\""
            ]
          },
          "metadata": {
            "tags": []
          },
          "execution_count": 8
        }
      ]
    },
    {
      "cell_type": "markdown",
      "metadata": {
        "id": "GWwUkPAa8IkE",
        "colab_type": "text"
      },
      "source": [
        "### 정수 시퀀스를 이진 행렬로 인코딩하기"
      ]
    },
    {
      "cell_type": "code",
      "metadata": {
        "id": "tRZUjLM-7elu",
        "colab_type": "code",
        "colab": {}
      },
      "source": [
        "import numpy as np\n",
        "\n",
        "def vectorize_sequences(sequences, dimension=10000):\n",
        "  results = np.zeros((len(sequences), dimension))\n",
        "  for i, sequence in enumerate(sequences):\n",
        "    results[i, sequence] = 1.\n",
        "  \n",
        "  return results\n",
        "\n",
        "x_train = vectorize_sequences(train_data)\n",
        "x_test = vectorize_sequences(test_data)"
      ],
      "execution_count": 0,
      "outputs": []
    },
    {
      "cell_type": "code",
      "metadata": {
        "id": "2o6FnOZB9J0_",
        "colab_type": "code",
        "outputId": "e7575dd9-4f6b-4b3f-c31a-a843d6f9990f",
        "colab": {
          "base_uri": "https://localhost:8080/",
          "height": 35
        }
      },
      "source": [
        "x_train[0]"
      ],
      "execution_count": 10,
      "outputs": [
        {
          "output_type": "execute_result",
          "data": {
            "text/plain": [
              "array([0., 1., 1., ..., 0., 0., 0.])"
            ]
          },
          "metadata": {
            "tags": []
          },
          "execution_count": 10
        }
      ]
    },
    {
      "cell_type": "markdown",
      "metadata": {
        "id": "lbRCZdS_9gsI",
        "colab_type": "text"
      },
      "source": [
        "### 레이블을 벡터로 바꾸기"
      ]
    },
    {
      "cell_type": "code",
      "metadata": {
        "id": "l1sx4k7r9QA6",
        "colab_type": "code",
        "colab": {}
      },
      "source": [
        "y_train = np.asarray(train_labels).astype('float32')\n",
        "y_test = np.asarray(test_labels).astype('float32')"
      ],
      "execution_count": 0,
      "outputs": []
    },
    {
      "cell_type": "markdown",
      "metadata": {
        "id": "vfZjqBBM9rpm",
        "colab_type": "text"
      },
      "source": [
        "### 신경망 모델 만들기"
      ]
    },
    {
      "cell_type": "markdown",
      "metadata": {
        "id": "_k01DAxlAbV9",
        "colab_type": "text"
      },
      "source": [
        "#### 모델 정의하기"
      ]
    },
    {
      "cell_type": "code",
      "metadata": {
        "id": "zQfJdfoy9fpk",
        "colab_type": "code",
        "colab": {}
      },
      "source": [
        "from keras import models\n",
        "from keras import layers"
      ],
      "execution_count": 0,
      "outputs": []
    },
    {
      "cell_type": "code",
      "metadata": {
        "id": "jy78kuQFAiQe",
        "colab_type": "code",
        "colab": {}
      },
      "source": [
        "model = models.Sequential()\n",
        "model.add(layers.Dense(16, activation='relu', input_shape = (10000,)))\n",
        "model.add(layers.Dense(16, activation='relu'))\n",
        "model.add(layers.Dense(1, activation='sigmoid'))"
      ],
      "execution_count": 0,
      "outputs": []
    },
    {
      "cell_type": "markdown",
      "metadata": {
        "id": "1C3ljmmzA-IO",
        "colab_type": "text"
      },
      "source": [
        "#### 모델 컴파일하기"
      ]
    },
    {
      "cell_type": "code",
      "metadata": {
        "id": "Pj9EKBZFAvWr",
        "colab_type": "code",
        "colab": {}
      },
      "source": [
        "model.compile(optimizer='rmsprop',\n",
        "              loss = 'binary_crossentropy',\n",
        "              metrics = ['accuracy'])"
      ],
      "execution_count": 0,
      "outputs": []
    },
    {
      "cell_type": "markdown",
      "metadata": {
        "id": "0cNefN0hCB6y",
        "colab_type": "text"
      },
      "source": [
        "####옵티마이저 설정하기"
      ]
    },
    {
      "cell_type": "code",
      "metadata": {
        "id": "lqNKCUqICEVc",
        "colab_type": "code",
        "colab": {}
      },
      "source": [
        "from keras import optimizers\n",
        "\n",
        "model.compile(optimizer = optimizers.RMSprop(lr=0.001),\n",
        "              loss = 'binary_crossentropy',\n",
        "              metrics = ['accuracy'])"
      ],
      "execution_count": 0,
      "outputs": []
    },
    {
      "cell_type": "markdown",
      "metadata": {
        "id": "vCB_55gzCt51",
        "colab_type": "text"
      },
      "source": [
        "#### 손실과 측정을 함수 객체로 지정하기"
      ]
    },
    {
      "cell_type": "code",
      "metadata": {
        "id": "kLPunb9nCw_s",
        "colab_type": "code",
        "colab": {}
      },
      "source": [
        "from keras import losses\n",
        "from keras import metrics\n",
        "\n",
        "model.compile(optimizer = optimizers.RMSprop(lr=0.001), \n",
        "              loss = losses.binary_crossentropy,\n",
        "              metrics = [metrics.binary_accuracy])"
      ],
      "execution_count": 0,
      "outputs": []
    },
    {
      "cell_type": "markdown",
      "metadata": {
        "id": "RSFvqF5PB9He",
        "colab_type": "text"
      },
      "source": [
        "### 검증 세트 준비하기"
      ]
    },
    {
      "cell_type": "code",
      "metadata": {
        "id": "99f29jpwBKFx",
        "colab_type": "code",
        "colab": {}
      },
      "source": [
        "x_val = x_train[:10000]\n",
        "partial_x_train = x_train[10000:]\n",
        "y_val = y_train[:10000]\n",
        "partial_y_train = y_train[10000:]"
      ],
      "execution_count": 0,
      "outputs": []
    },
    {
      "cell_type": "markdown",
      "metadata": {
        "id": "v-I8tbzjCqDo",
        "colab_type": "text"
      },
      "source": [
        "### 모델 훈련하기"
      ]
    },
    {
      "cell_type": "code",
      "metadata": {
        "id": "dxYYIL38Cm4u",
        "colab_type": "code",
        "outputId": "b1f5a6d3-3bd3-434b-b2fe-1bdfe915fedd",
        "colab": {
          "base_uri": "https://localhost:8080/",
          "height": 0
        }
      },
      "source": [
        "model.compile(optimizer='rmsprop',\n",
        "              loss = 'binary_crossentropy',\n",
        "              metrics = ['acc'])\n",
        "\n",
        "history = model.fit(partial_x_train,\n",
        "                    partial_y_train,\n",
        "                    epochs = 20,\n",
        "                    batch_size = 512,\n",
        "                    validation_data = (x_val, y_val))"
      ],
      "execution_count": 18,
      "outputs": [
        {
          "output_type": "stream",
          "text": [
            "Train on 15000 samples, validate on 10000 samples\n",
            "Epoch 1/20\n",
            "15000/15000 [==============================] - 2s 116us/step - loss: 0.4913 - acc: 0.7931 - val_loss: 0.3693 - val_acc: 0.8704\n",
            "Epoch 2/20\n",
            "15000/15000 [==============================] - 1s 93us/step - loss: 0.2882 - acc: 0.9085 - val_loss: 0.3164 - val_acc: 0.8755\n",
            "Epoch 3/20\n",
            "15000/15000 [==============================] - 1s 94us/step - loss: 0.2115 - acc: 0.9315 - val_loss: 0.2758 - val_acc: 0.8925\n",
            "Epoch 4/20\n",
            "15000/15000 [==============================] - 1s 93us/step - loss: 0.1679 - acc: 0.9455 - val_loss: 0.2887 - val_acc: 0.8839\n",
            "Epoch 5/20\n",
            "15000/15000 [==============================] - 1s 94us/step - loss: 0.1383 - acc: 0.9540 - val_loss: 0.2958 - val_acc: 0.8852\n",
            "Epoch 6/20\n",
            "15000/15000 [==============================] - 1s 93us/step - loss: 0.1100 - acc: 0.9670 - val_loss: 0.2970 - val_acc: 0.8836\n",
            "Epoch 7/20\n",
            "15000/15000 [==============================] - 1s 98us/step - loss: 0.0939 - acc: 0.9721 - val_loss: 0.3181 - val_acc: 0.8815\n",
            "Epoch 8/20\n",
            "15000/15000 [==============================] - 1s 95us/step - loss: 0.0769 - acc: 0.9783 - val_loss: 0.3382 - val_acc: 0.8790\n",
            "Epoch 9/20\n",
            "15000/15000 [==============================] - 1s 96us/step - loss: 0.0614 - acc: 0.9845 - val_loss: 0.4094 - val_acc: 0.8658\n",
            "Epoch 10/20\n",
            "15000/15000 [==============================] - 1s 95us/step - loss: 0.0516 - acc: 0.9870 - val_loss: 0.3954 - val_acc: 0.8737\n",
            "Epoch 11/20\n",
            "15000/15000 [==============================] - 1s 93us/step - loss: 0.0424 - acc: 0.9903 - val_loss: 0.4122 - val_acc: 0.8756\n",
            "Epoch 12/20\n",
            "15000/15000 [==============================] - 1s 94us/step - loss: 0.0336 - acc: 0.9931 - val_loss: 0.4379 - val_acc: 0.8749\n",
            "Epoch 13/20\n",
            "15000/15000 [==============================] - 1s 92us/step - loss: 0.0260 - acc: 0.9950 - val_loss: 0.4689 - val_acc: 0.8728\n",
            "Epoch 14/20\n",
            "15000/15000 [==============================] - 1s 91us/step - loss: 0.0258 - acc: 0.9949 - val_loss: 0.4958 - val_acc: 0.8728\n",
            "Epoch 15/20\n",
            "15000/15000 [==============================] - 1s 91us/step - loss: 0.0139 - acc: 0.9986 - val_loss: 0.6039 - val_acc: 0.8524\n",
            "Epoch 16/20\n",
            "15000/15000 [==============================] - 1s 90us/step - loss: 0.0166 - acc: 0.9972 - val_loss: 0.5554 - val_acc: 0.8676\n",
            "Epoch 17/20\n",
            "15000/15000 [==============================] - 1s 93us/step - loss: 0.0080 - acc: 0.9995 - val_loss: 0.5873 - val_acc: 0.8669\n",
            "Epoch 18/20\n",
            "15000/15000 [==============================] - 1s 91us/step - loss: 0.0102 - acc: 0.9983 - val_loss: 0.6309 - val_acc: 0.8682\n",
            "Epoch 19/20\n",
            "15000/15000 [==============================] - 1s 91us/step - loss: 0.0044 - acc: 0.9999 - val_loss: 0.6655 - val_acc: 0.8686\n",
            "Epoch 20/20\n",
            "15000/15000 [==============================] - 1s 90us/step - loss: 0.0078 - acc: 0.9983 - val_loss: 0.7006 - val_acc: 0.8645\n"
          ],
          "name": "stdout"
        }
      ]
    },
    {
      "cell_type": "markdown",
      "metadata": {
        "id": "JJ5l8C-PDef1",
        "colab_type": "text"
      },
      "source": [
        "### 훈련과 검증 손실 그리기(그래프)"
      ]
    },
    {
      "cell_type": "code",
      "metadata": {
        "id": "b2lG41LaDX86",
        "colab_type": "code",
        "outputId": "105505a8-93ea-42b3-d1a8-5f9cc99fee08",
        "colab": {
          "base_uri": "https://localhost:8080/",
          "height": 0
        }
      },
      "source": [
        "import matplotlib.pyplot as plt\n",
        "\n",
        "history_dict = history.history\n",
        "loss = history_dict['loss']\n",
        "val_loss = history_dict['val_loss']\n",
        "\n",
        "epochs = range(1, len(loss) + 1)\n",
        "\n",
        "plt.plot(epochs, loss, 'bo', label = 'Training loss')\n",
        "plt.plot(epochs, val_loss, 'b', label = 'Validation loss')\n",
        "plt.title('Training and validation loss')\n",
        "plt.xlabel('Epochs')\n",
        "plt.ylabel('Loss')\n",
        "plt.legend()\n",
        "\n",
        "plt.show()"
      ],
      "execution_count": 19,
      "outputs": [
        {
          "output_type": "display_data",
          "data": {
            "image/png": "[encoded data removed]",
            "text/plain": [
              "<Figure size 432x288 with 1 Axes>"
            ]
          },
          "metadata": {
            "tags": [],
            "needs_background": "light"
          }
        }
      ]
    },
    {
      "cell_type": "markdown",
      "metadata": {
        "id": "nuILySObFzRr",
        "colab_type": "text"
      },
      "source": [
        "### 훈련과 검증 정확도 그리기"
      ]
    },
    {
      "cell_type": "code",
      "metadata": {
        "id": "iCARbUTsEFoa",
        "colab_type": "code",
        "outputId": "34574612-2280-4a88-f2d4-3b0759d8579d",
        "colab": {
          "base_uri": "https://localhost:8080/",
          "height": 0
        }
      },
      "source": [
        "plt.clf()\n",
        "acc = history_dict['acc']\n",
        "val_acc = history_dict['val_acc']\n",
        "\n",
        "plt.plot(epochs, acc, 'bo', label = 'Training acc')\n",
        "plt.plot(epochs, val_acc, 'b', label = 'Validation acc')\n",
        "plt.title('Training and validation accuracy')\n",
        "plt.xlabel('Epochs')\n",
        "plt.ylabel('Accuracy')\n",
        "plt.legend()\n",
        "\n",
        "plt.show()"
      ],
      "execution_count": 20,
      "outputs": [
        {
          "output_type": "display_data",
          "data": {
            "image/png": "[encoded data removed]",
            "text/plain": [
              "<Figure size 432x288 with 1 Axes>"
            ]
          },
          "metadata": {
            "tags": [],
            "needs_background": "light"
          }
        }
      ]
    },
    {
      "cell_type": "markdown",
      "metadata": {
        "id": "jX9U0a-aJJwr",
        "colab_type": "text"
      },
      "source": [
        "### 모델을 처음부터 다시 훈련하기"
      ]
    },
    {
      "cell_type": "code",
      "metadata": {
        "id": "NHNAxAxsGUzn",
        "colab_type": "code",
        "outputId": "799666df-4a3b-492c-93df-ce22fa46b73d",
        "colab": {
          "base_uri": "https://localhost:8080/",
          "height": 0
        }
      },
      "source": [
        "model = models.Sequential()\n",
        "model.add(layers.Dense(16, activation='relu', input_shape=(10000,)))\n",
        "model.add(layers.Dense(16, activation='relu'))\n",
        "model.add(layers.Dense(1, activation='sigmoid'))\n",
        "\n",
        "model.compile(optimizer='rmsprop',\n",
        "              loss='binary_crossentropy',\n",
        "              metrics = ['accuracy'])\n",
        "\n",
        "model.fit(x_train, y_train, epochs=4, batch_size=512)\n",
        "results = model.evaluate(x_test, y_test)"
      ],
      "execution_count": 21,
      "outputs": [
        {
          "output_type": "stream",
          "text": [
            "Epoch 1/4\n",
            "25000/25000 [==============================] - 2s 69us/step - loss: 0.4601 - accuracy: 0.8270\n",
            "Epoch 2/4\n",
            "25000/25000 [==============================] - 2s 66us/step - loss: 0.2620 - accuracy: 0.9114\n",
            "Epoch 3/4\n",
            "25000/25000 [==============================] - 2s 65us/step - loss: 0.2023 - accuracy: 0.9283\n",
            "Epoch 4/4\n",
            "25000/25000 [==============================] - 2s 66us/step - loss: 0.1690 - accuracy: 0.9390\n",
            "25000/25000 [==============================] - 2s 61us/step\n"
          ],
          "name": "stdout"
        }
      ]
    },
    {
      "cell_type": "code",
      "metadata": {
        "id": "6JhKa2x4KBB_",
        "colab_type": "code",
        "outputId": "bed0ba34-8075-4d8a-ee42-7e32e7949034",
        "colab": {
          "base_uri": "https://localhost:8080/",
          "height": 0
        }
      },
      "source": [
        "results"
      ],
      "execution_count": 22,
      "outputs": [
        {
          "output_type": "execute_result",
          "data": {
            "text/plain": [
              "[0.2913652380657196, 0.8862000107765198]"
            ]
          },
          "metadata": {
            "tags": []
          },
          "execution_count": 22
        }
      ]
    },
    {
      "cell_type": "markdown",
      "metadata": {
        "id": "2Xt5cXOSKR8y",
        "colab_type": "text"
      },
      "source": [
        "### 훈련된 모델로 새로운 데이터에 대해 예측하기"
      ]
    },
    {
      "cell_type": "code",
      "metadata": {
        "id": "7bnVZGTPKHco",
        "colab_type": "code",
        "outputId": "e479ed02-d054-47ad-81e0-0a841f044bbf",
        "colab": {
          "base_uri": "https://localhost:8080/",
          "height": 0
        }
      },
      "source": [
        "model.predict(x_test)"
      ],
      "execution_count": 23,
      "outputs": [
        {
          "output_type": "execute_result",
          "data": {
            "text/plain": [
              "array([[0.19395912],\n",
              "       [0.99967825],\n",
              "       [0.92437565],\n",
              "       ...,\n",
              "       [0.12325871],\n",
              "       [0.08445668],\n",
              "       [0.6538669 ]], dtype=float32)"
            ]
          },
          "metadata": {
            "tags": []
          },
          "execution_count": 23
        }
      ]
    },
    {
      "cell_type": "markdown",
      "metadata": {
        "id": "uolkBPwsKihz",
        "colab_type": "text"
      },
      "source": [
        "# 실습문제 적용하기"
      ]
    },
    {
      "cell_type": "markdown",
      "metadata": {
        "id": "aDQJVRlwVywX",
        "colab_type": "text"
      },
      "source": [
        "##가장 기본되는 설정의 모델 생성하기"
      ]
    },
    {
      "cell_type": "code",
      "metadata": {
        "id": "-__vBCpZVx80",
        "colab_type": "code",
        "outputId": "b22d327f-ccd2-4517-a558-19e7adf6c5bf",
        "colab": {
          "base_uri": "https://localhost:8080/",
          "height": 773
        }
      },
      "source": [
        "model = models.Sequential()\n",
        "model.add(layers.Dense(16, activation='relu', input_shape = (10000,)))\n",
        "model.add(layers.Dense(16, activation='relu'))\n",
        "model.add(layers.Dense(1, activation='sigmoid'))\n",
        "\n",
        "model.compile(optimizer='rmsprop',\n",
        "              loss='binary_crossentropy',\n",
        "              metrics=['acc'])\n",
        "\n",
        "history = model.fit(partial_x_train,\n",
        "                    partial_y_train,\n",
        "                    epochs=20,\n",
        "                    batch_size=512,\n",
        "                    validation_data=(x_val, y_val))\n",
        "\n",
        "results = model.evaluate(x_test, y_test) ### evaluate의 return 값은 loss와 metrics의 값\n",
        "\n",
        "history_dict = history.history\n",
        "acc = history_dict['acc']\n",
        "val_acc = history_dict['val_acc']"
      ],
      "execution_count": 24,
      "outputs": [
        {
          "output_type": "stream",
          "text": [
            "Train on 15000 samples, validate on 10000 samples\n",
            "Epoch 1/20\n",
            "15000/15000 [==============================] - 1s 99us/step - loss: 0.4989 - acc: 0.7984 - val_loss: 0.3719 - val_acc: 0.8773\n",
            "Epoch 2/20\n",
            "15000/15000 [==============================] - 1s 94us/step - loss: 0.2913 - acc: 0.9069 - val_loss: 0.2993 - val_acc: 0.8885\n",
            "Epoch 3/20\n",
            "15000/15000 [==============================] - 1s 93us/step - loss: 0.2161 - acc: 0.9272 - val_loss: 0.3086 - val_acc: 0.8753\n",
            "Epoch 4/20\n",
            "15000/15000 [==============================] - 1s 93us/step - loss: 0.1683 - acc: 0.9457 - val_loss: 0.2934 - val_acc: 0.8817\n",
            "Epoch 5/20\n",
            "15000/15000 [==============================] - 1s 93us/step - loss: 0.1391 - acc: 0.9551 - val_loss: 0.2847 - val_acc: 0.8877\n",
            "Epoch 6/20\n",
            "15000/15000 [==============================] - 1s 92us/step - loss: 0.1150 - acc: 0.9643 - val_loss: 0.3009 - val_acc: 0.8831\n",
            "Epoch 7/20\n",
            "15000/15000 [==============================] - 1s 94us/step - loss: 0.0955 - acc: 0.9711 - val_loss: 0.3274 - val_acc: 0.8822\n",
            "Epoch 8/20\n",
            "15000/15000 [==============================] - 1s 92us/step - loss: 0.0780 - acc: 0.9772 - val_loss: 0.3534 - val_acc: 0.8755\n",
            "Epoch 9/20\n",
            "15000/15000 [==============================] - 1s 92us/step - loss: 0.0641 - acc: 0.9828 - val_loss: 0.3602 - val_acc: 0.8785\n",
            "Epoch 10/20\n",
            "15000/15000 [==============================] - 1s 91us/step - loss: 0.0538 - acc: 0.9857 - val_loss: 0.3837 - val_acc: 0.8785\n",
            "Epoch 11/20\n",
            "15000/15000 [==============================] - 1s 91us/step - loss: 0.0440 - acc: 0.9893 - val_loss: 0.4163 - val_acc: 0.8779\n",
            "Epoch 12/20\n",
            "15000/15000 [==============================] - 1s 91us/step - loss: 0.0365 - acc: 0.9918 - val_loss: 0.4427 - val_acc: 0.8756\n",
            "Epoch 13/20\n",
            "15000/15000 [==============================] - 1s 90us/step - loss: 0.0277 - acc: 0.9947 - val_loss: 0.4799 - val_acc: 0.8734\n",
            "Epoch 14/20\n",
            "15000/15000 [==============================] - 1s 91us/step - loss: 0.0218 - acc: 0.9965 - val_loss: 0.5220 - val_acc: 0.8664\n",
            "Epoch 15/20\n",
            "15000/15000 [==============================] - 1s 93us/step - loss: 0.0199 - acc: 0.9965 - val_loss: 0.6533 - val_acc: 0.8489\n",
            "Epoch 16/20\n",
            "15000/15000 [==============================] - 1s 93us/step - loss: 0.0138 - acc: 0.9982 - val_loss: 0.5790 - val_acc: 0.8686\n",
            "Epoch 17/20\n",
            "15000/15000 [==============================] - 1s 94us/step - loss: 0.0135 - acc: 0.9977 - val_loss: 0.6040 - val_acc: 0.8679\n",
            "Epoch 18/20\n",
            "15000/15000 [==============================] - 1s 95us/step - loss: 0.0119 - acc: 0.9972 - val_loss: 0.6400 - val_acc: 0.8664\n",
            "Epoch 19/20\n",
            "15000/15000 [==============================] - 1s 94us/step - loss: 0.0051 - acc: 0.9997 - val_loss: 0.6734 - val_acc: 0.8669\n",
            "Epoch 20/20\n",
            "15000/15000 [==============================] - 1s 93us/step - loss: 0.0093 - acc: 0.9977 - val_loss: 0.7041 - val_acc: 0.8648\n",
            "25000/25000 [==============================] - 2s 61us/step\n"
          ],
          "name": "stdout"
        }
      ]
    },
    {
      "cell_type": "code",
      "metadata": {
        "id": "OCVvb1k9f2yN",
        "colab_type": "code",
        "outputId": "2e71789c-9074-44a6-b3ef-bd310aa77ddd",
        "colab": {
          "base_uri": "https://localhost:8080/",
          "height": 295
        }
      },
      "source": [
        "history_dict = history.history\n",
        "loss = history_dict['loss']\n",
        "val_loss = history_dict['val_loss']\n",
        "\n",
        "epochs = range(1, len(loss) + 1)\n",
        "\n",
        "plt.clf()\n",
        "plt.plot(epochs, loss, 'bo', label = 'Training loss')\n",
        "plt.plot(epochs, val_loss, 'b', label = 'Validation loss')\n",
        "plt.title('Training and validation loss')\n",
        "plt.xlabel('Epochs')\n",
        "plt.ylabel('Loss')\n",
        "plt.legend()\n",
        "\n",
        "plt.show()"
      ],
      "execution_count": 25,
      "outputs": [
        {
          "output_type": "display_data",
          "data": {
            "image/png": "[encoded data removed]",
            "text/plain": [
              "<Figure size 432x288 with 1 Axes>"
            ]
          },
          "metadata": {
            "tags": [],
            "needs_background": "light"
          }
        }
      ]
    },
    {
      "cell_type": "markdown",
      "metadata": {
        "id": "1gexYFn-f1VI",
        "colab_type": "text"
      },
      "source": [
        "위의 결과로보아 epochs가 4일때부터 validation loss가 증가(overfitting이 일어난다고 볼 수 있기때문에)하므로 epochs를 4로 놓기로함"
      ]
    },
    {
      "cell_type": "code",
      "metadata": {
        "id": "YtPs_xRQgggw",
        "colab_type": "code",
        "outputId": "c93bc182-9127-4b7e-a3a3-eb1785de4ea7",
        "colab": {
          "base_uri": "https://localhost:8080/",
          "height": 197
        }
      },
      "source": [
        "model = models.Sequential()\n",
        "model.add(layers.Dense(16, activation='relu', input_shape = (10000,)))\n",
        "model.add(layers.Dense(16, activation='relu'))\n",
        "model.add(layers.Dense(1, activation='sigmoid'))\n",
        "\n",
        "model.compile(optimizer='rmsprop',\n",
        "              loss='binary_crossentropy',\n",
        "              metrics=['acc'])\n",
        "\n",
        "history = model.fit(partial_x_train,\n",
        "                    partial_y_train,\n",
        "                    epochs=4,\n",
        "                    batch_size=512,\n",
        "                    validation_data=(x_val, y_val))\n",
        "\n",
        "results = model.evaluate(x_test, y_test) ### evaluate의 return 값은 loss와 metrics의 값\n",
        "\n",
        "history_dict = history.history\n",
        "acc = history_dict['acc']\n",
        "val_acc = history_dict['val_acc']"
      ],
      "execution_count": 26,
      "outputs": [
        {
          "output_type": "stream",
          "text": [
            "Train on 15000 samples, validate on 10000 samples\n",
            "Epoch 1/4\n",
            "15000/15000 [==============================] - 1s 100us/step - loss: 0.5258 - acc: 0.7924 - val_loss: 0.4118 - val_acc: 0.8488\n",
            "Epoch 2/4\n",
            "15000/15000 [==============================] - 1s 95us/step - loss: 0.3206 - acc: 0.9002 - val_loss: 0.3175 - val_acc: 0.8806\n",
            "Epoch 3/4\n",
            "15000/15000 [==============================] - 1s 93us/step - loss: 0.2287 - acc: 0.9286 - val_loss: 0.3131 - val_acc: 0.8710\n",
            "Epoch 4/4\n",
            "15000/15000 [==============================] - 1s 95us/step - loss: 0.1825 - acc: 0.9413 - val_loss: 0.2758 - val_acc: 0.8898\n",
            "25000/25000 [==============================] - 2s 62us/step\n"
          ],
          "name": "stdout"
        }
      ]
    },
    {
      "cell_type": "markdown",
      "metadata": {
        "id": "fN0i4paSgYOi",
        "colab_type": "text"
      },
      "source": [
        "가장 기본되는 모델의 training accuracy, validation accuracy, test accuracy"
      ]
    },
    {
      "cell_type": "code",
      "metadata": {
        "id": "zukGxDw6fcwY",
        "colab_type": "code",
        "outputId": "7a24ed16-8386-4d4d-dbb3-27fd100922c5",
        "colab": {
          "base_uri": "https://localhost:8080/",
          "height": 71
        }
      },
      "source": [
        "print(acc[3])\n",
        "print(val_acc[3])\n",
        "print(results[1])"
      ],
      "execution_count": 27,
      "outputs": [
        {
          "output_type": "stream",
          "text": [
            "0.94126666\n",
            "0.8898000121116638\n",
            "0.8825600147247314\n"
          ],
          "name": "stdout"
        }
      ]
    },
    {
      "cell_type": "markdown",
      "metadata": {
        "id": "6chAo_AEKifr",
        "colab_type": "text"
      },
      "source": [
        "## 실습문제 첫번째 레이어의 수 조정하기"
      ]
    },
    {
      "cell_type": "markdown",
      "metadata": {
        "id": "TWud1Wo6K3h5",
        "colab_type": "text"
      },
      "source": [
        "### 은닉층을 하나만 사용해 보기"
      ]
    },
    {
      "cell_type": "code",
      "metadata": {
        "id": "VtxW3U0GKbgC",
        "colab_type": "code",
        "outputId": "aa7060ab-122a-46b8-afe2-3ddd8fd17102",
        "colab": {
          "base_uri": "https://localhost:8080/",
          "height": 0
        }
      },
      "source": [
        "model_test1 = models.Sequential()\n",
        "model_test1.add(layers.Dense(16, activation='relu', input_shape = (10000,)))\n",
        "model_test1.add(layers.Dense(1, activation='sigmoid'))\n",
        "\n",
        "model_test1.compile(optimizer='rmsprop',\n",
        "              loss='binary_crossentropy',\n",
        "              metrics=['acc'])\n",
        "\n",
        "history = model_test1.fit(partial_x_train,\n",
        "                          partial_y_train,\n",
        "                          epochs=4,\n",
        "                          batch_size=512,\n",
        "                          validation_data=(x_val, y_val))\n",
        "\n",
        "results_test1 = model_test1.evaluate(x_test, y_test) \n",
        "\n",
        "history_dict_test1 = history.history\n",
        "acc_test1 = history_dict_test1['acc']\n",
        "val_acc_test1 = history_dict_test1['val_acc']"
      ],
      "execution_count": 28,
      "outputs": [
        {
          "output_type": "stream",
          "text": [
            "Train on 15000 samples, validate on 10000 samples\n",
            "Epoch 1/4\n",
            "15000/15000 [==============================] - 1s 99us/step - loss: 0.5087 - acc: 0.8051 - val_loss: 0.4088 - val_acc: 0.8632\n",
            "Epoch 2/4\n",
            "15000/15000 [==============================] - 1s 95us/step - loss: 0.3354 - acc: 0.8985 - val_loss: 0.3347 - val_acc: 0.8808\n",
            "Epoch 3/4\n",
            "15000/15000 [==============================] - 1s 95us/step - loss: 0.2604 - acc: 0.9199 - val_loss: 0.3027 - val_acc: 0.8847\n",
            "Epoch 4/4\n",
            "15000/15000 [==============================] - 1s 93us/step - loss: 0.2151 - acc: 0.9329 - val_loss: 0.2904 - val_acc: 0.8860\n",
            "25000/25000 [==============================] - 1s 59us/step\n"
          ],
          "name": "stdout"
        }
      ]
    },
    {
      "cell_type": "markdown",
      "metadata": {
        "id": "HLl9Hgkfgjl6",
        "colab_type": "text"
      },
      "source": [
        "은닉층을 하나만 사용한 경우의 training accuracy, validation accuracy, test accuracy"
      ]
    },
    {
      "cell_type": "code",
      "metadata": {
        "id": "U911LwtcONwA",
        "colab_type": "code",
        "outputId": "5497e3e7-0d0c-441f-a0af-92c5e292047b",
        "colab": {
          "base_uri": "https://localhost:8080/",
          "height": 0
        }
      },
      "source": [
        "print(acc_test1[3])\n",
        "print(val_acc_test1[3])\n",
        "print(results_test1[1])"
      ],
      "execution_count": 29,
      "outputs": [
        {
          "output_type": "stream",
          "text": [
            "0.9328667\n",
            "0.8859999775886536\n",
            "0.8788800239562988\n"
          ],
          "name": "stdout"
        }
      ]
    },
    {
      "cell_type": "markdown",
      "metadata": {
        "id": "TqIb4crAg91q",
        "colab_type": "text"
      },
      "source": [
        "### 은닉층을 세개 사용해 보기"
      ]
    },
    {
      "cell_type": "code",
      "metadata": {
        "id": "2U1MSg1rQuzo",
        "colab_type": "code",
        "outputId": "52ca3c84-a8e8-43bb-ed6b-9a861f1a242d",
        "colab": {
          "base_uri": "https://localhost:8080/",
          "height": 0
        }
      },
      "source": [
        "model_test2 = models.Sequential()\n",
        "model_test2.add(layers.Dense(16, activation='relu', input_shape = (10000,)))\n",
        "model_test2.add(layers.Dense(16, activation='relu'))\n",
        "model_test2.add(layers.Dense(16, activation='relu'))\n",
        "model_test2.add(layers.Dense(1, activation='sigmoid'))\n",
        "\n",
        "model_test2.compile(optimizer='rmsprop',\n",
        "                    loss='binary_crossentropy',\n",
        "                    metrics=['acc'])\n",
        "\n",
        "history = model_test2.fit(partial_x_train,\n",
        "                          partial_y_train,\n",
        "                          epochs=4,\n",
        "                          batch_size=512,\n",
        "                          validation_data=(x_val, y_val))\n",
        "\n",
        "results_test2 = model_test2.evaluate(x_test, y_test) \n",
        "\n",
        "history_dict_test2 = history.history\n",
        "acc_test2 = history_dict_test2['acc']\n",
        "val_acc_test2 = history_dict_test2['val_acc']"
      ],
      "execution_count": 30,
      "outputs": [
        {
          "output_type": "stream",
          "text": [
            "Train on 15000 samples, validate on 10000 samples\n",
            "Epoch 1/4\n",
            "15000/15000 [==============================] - 2s 102us/step - loss: 0.5527 - acc: 0.7684 - val_loss: 0.4121 - val_acc: 0.8686\n",
            "Epoch 2/4\n",
            "15000/15000 [==============================] - 1s 96us/step - loss: 0.3240 - acc: 0.8966 - val_loss: 0.3195 - val_acc: 0.8781\n",
            "Epoch 3/4\n",
            "15000/15000 [==============================] - 1s 93us/step - loss: 0.2233 - acc: 0.9249 - val_loss: 0.2749 - val_acc: 0.8907\n",
            "Epoch 4/4\n",
            "15000/15000 [==============================] - 1s 94us/step - loss: 0.1731 - acc: 0.9416 - val_loss: 0.2996 - val_acc: 0.8812\n",
            "25000/25000 [==============================] - 2s 62us/step\n"
          ],
          "name": "stdout"
        }
      ]
    },
    {
      "cell_type": "markdown",
      "metadata": {
        "id": "sMtNHdr6hLVi",
        "colab_type": "text"
      },
      "source": [
        "은닉층을 세개 사용한 경우의 training accuracy, validation accuracy, test accuracy"
      ]
    },
    {
      "cell_type": "code",
      "metadata": {
        "id": "yhWevvg8VX7h",
        "colab_type": "code",
        "outputId": "f895fad3-ba04-4db7-dbf9-fb9426700fd1",
        "colab": {
          "base_uri": "https://localhost:8080/",
          "height": 0
        }
      },
      "source": [
        "print(acc_test2[3])\n",
        "print(val_acc_test2[3])\n",
        "print(results_test2[1])"
      ],
      "execution_count": 31,
      "outputs": [
        {
          "output_type": "stream",
          "text": [
            "0.9416\n",
            "0.8812000155448914\n",
            "0.8685200214385986\n"
          ],
          "name": "stdout"
        }
      ]
    },
    {
      "cell_type": "markdown",
      "metadata": {
        "id": "FKMgWEtdeBN9",
        "colab_type": "text"
      },
      "source": [
        "### 은닉층의 유닛을 증가하기1"
      ]
    },
    {
      "cell_type": "code",
      "metadata": {
        "id": "CeNw_whH-SZN",
        "colab_type": "code",
        "outputId": "d45edb14-6cd3-4bec-af59-815550b59fae",
        "colab": {
          "base_uri": "https://localhost:8080/",
          "height": 0
        }
      },
      "source": [
        "model_test3 = models.Sequential()\n",
        "model_test3.add(layers.Dense(32, activation='relu', input_shape = (10000,)))\n",
        "model_test3.add(layers.Dense(32, activation='relu'))\n",
        "model_test3.add(layers.Dense(1, activation='sigmoid'))\n",
        "\n",
        "model_test3.compile(optimizer='rmsprop',\n",
        "                    loss='binary_crossentropy',\n",
        "                    metrics=['acc'])\n",
        "\n",
        "history = model_test3.fit(partial_x_train,\n",
        "                          partial_y_train,\n",
        "                          epochs=4,\n",
        "                          batch_size=512,\n",
        "                          validation_data=(x_val, y_val))\n",
        "\n",
        "results_test3 = model_test3.evaluate(x_test, y_test) \n",
        "\n",
        "history_dict_test3 = history.history\n",
        "acc_test3 = history_dict_test3['acc']\n",
        "val_acc_test3 = history_dict_test3['val_acc']"
      ],
      "execution_count": 32,
      "outputs": [
        {
          "output_type": "stream",
          "text": [
            "Train on 15000 samples, validate on 10000 samples\n",
            "Epoch 1/4\n",
            "15000/15000 [==============================] - 2s 114us/step - loss: 0.4862 - acc: 0.7879 - val_loss: 0.4403 - val_acc: 0.8065\n",
            "Epoch 2/4\n",
            "15000/15000 [==============================] - 2s 107us/step - loss: 0.2693 - acc: 0.9051 - val_loss: 0.2934 - val_acc: 0.8851\n",
            "Epoch 3/4\n",
            "15000/15000 [==============================] - 2s 107us/step - loss: 0.2023 - acc: 0.9280 - val_loss: 0.3572 - val_acc: 0.8541\n",
            "Epoch 4/4\n",
            "15000/15000 [==============================] - 2s 111us/step - loss: 0.1497 - acc: 0.9498 - val_loss: 0.3029 - val_acc: 0.8792\n",
            "25000/25000 [==============================] - 2s 73us/step\n"
          ],
          "name": "stdout"
        }
      ]
    },
    {
      "cell_type": "markdown",
      "metadata": {
        "id": "sp1ZecZuhOFn",
        "colab_type": "text"
      },
      "source": [
        "은닉층의 유닛을 32로 놓고 사용한 경우의 training accuracy, validation accuracy, test accuracy"
      ]
    },
    {
      "cell_type": "code",
      "metadata": {
        "id": "20iG6KCgexQ5",
        "colab_type": "code",
        "outputId": "bd614856-78d9-48cb-c395-4481d4da07be",
        "colab": {
          "base_uri": "https://localhost:8080/",
          "height": 0
        }
      },
      "source": [
        "print(acc_test3[3])\n",
        "print(val_acc_test3[3])\n",
        "print(results_test3[1])"
      ],
      "execution_count": 33,
      "outputs": [
        {
          "output_type": "stream",
          "text": [
            "0.9498\n",
            "0.8791999816894531\n",
            "0.8683599829673767\n"
          ],
          "name": "stdout"
        }
      ]
    },
    {
      "cell_type": "markdown",
      "metadata": {
        "id": "Eu1_nIBwfBlU",
        "colab_type": "text"
      },
      "source": [
        "### 은닉층의 유닛 수 증가하기2"
      ]
    },
    {
      "cell_type": "code",
      "metadata": {
        "id": "BkvXoRRUe8Tl",
        "colab_type": "code",
        "outputId": "89d2aa3a-dff6-4595-a6ac-27afc9554e5a",
        "colab": {
          "base_uri": "https://localhost:8080/",
          "height": 0
        }
      },
      "source": [
        "model_test4 = models.Sequential()\n",
        "model_test4.add(layers.Dense(64, activation='relu', input_shape = (10000,)))\n",
        "model_test4.add(layers.Dense(64, activation='relu'))\n",
        "model_test4.add(layers.Dense(1, activation='sigmoid'))\n",
        "\n",
        "model_test4.compile(optimizer='rmsprop',\n",
        "                    loss='binary_crossentropy',\n",
        "                    metrics=['acc'])\n",
        "\n",
        "history = model_test4.fit(partial_x_train,\n",
        "                          partial_y_train,\n",
        "                          epochs=4,\n",
        "                          batch_size=512,\n",
        "                          validation_data=(x_val, y_val))\n",
        "\n",
        "results_test4 = model_test4.evaluate(x_test, y_test) \n",
        "\n",
        "history_dict_test4 = history.history\n",
        "acc_test4 = history_dict_test4['acc']\n",
        "val_acc_test4 = history_dict_test4['val_acc']"
      ],
      "execution_count": 34,
      "outputs": [
        {
          "output_type": "stream",
          "text": [
            "Train on 15000 samples, validate on 10000 samples\n",
            "Epoch 1/4\n",
            "15000/15000 [==============================] - 2s 151us/step - loss: 0.4786 - acc: 0.7757 - val_loss: 0.3940 - val_acc: 0.8313\n",
            "Epoch 2/4\n",
            "15000/15000 [==============================] - 2s 146us/step - loss: 0.2614 - acc: 0.9043 - val_loss: 0.3344 - val_acc: 0.8611\n",
            "Epoch 3/4\n",
            "15000/15000 [==============================] - 2s 148us/step - loss: 0.1878 - acc: 0.9316 - val_loss: 0.2884 - val_acc: 0.8849\n",
            "Epoch 4/4\n",
            "15000/15000 [==============================] - 2s 147us/step - loss: 0.1476 - acc: 0.9454 - val_loss: 0.3233 - val_acc: 0.8756\n",
            "25000/25000 [==============================] - 2s 81us/step\n"
          ],
          "name": "stdout"
        }
      ]
    },
    {
      "cell_type": "markdown",
      "metadata": {
        "id": "nCvxIVflhHqY",
        "colab_type": "text"
      },
      "source": [
        "은닉층의 유닛을 64로 놓고 사용한 경우의 training accuracy, validation accuracy, test accuracy"
      ]
    },
    {
      "cell_type": "code",
      "metadata": {
        "id": "bNFbyMnAfY5r",
        "colab_type": "code",
        "outputId": "40b41440-b991-4435-dc30-c637110218c3",
        "colab": {
          "base_uri": "https://localhost:8080/",
          "height": 0
        }
      },
      "source": [
        "print(acc_test4[3])\n",
        "print(val_acc_test4[3])\n",
        "print(results_test4[1])"
      ],
      "execution_count": 35,
      "outputs": [
        {
          "output_type": "stream",
          "text": [
            "0.9454\n",
            "0.8755999803543091\n",
            "0.8639600276947021\n"
          ],
          "name": "stdout"
        }
      ]
    },
    {
      "cell_type": "markdown",
      "metadata": {
        "id": "Q6RKG33nhbso",
        "colab_type": "text"
      },
      "source": [
        "### 은닉층의 유닛수 줄여보기"
      ]
    },
    {
      "cell_type": "code",
      "metadata": {
        "id": "yw0hXsdRfrWf",
        "colab_type": "code",
        "outputId": "6ed956eb-b703-475b-b003-b6d292b4cc5a",
        "colab": {
          "base_uri": "https://localhost:8080/",
          "height": 0
        }
      },
      "source": [
        "model_test5 = models.Sequential()\n",
        "model_test5.add(layers.Dense(8, activation='relu', input_shape = (10000,)))\n",
        "model_test5.add(layers.Dense(8, activation='relu'))\n",
        "model_test5.add(layers.Dense(1, activation='sigmoid'))\n",
        "\n",
        "model_test5.compile(optimizer='rmsprop',\n",
        "                    loss='binary_crossentropy',\n",
        "                    metrics=['acc'])\n",
        "\n",
        "history = model_test5.fit(partial_x_train,\n",
        "                          partial_y_train,\n",
        "                          epochs=4,\n",
        "                          batch_size=512,\n",
        "                          validation_data=(x_val, y_val))\n",
        "\n",
        "results_test5 = model_test5.evaluate(x_test, y_test) \n",
        "\n",
        "history_dict_test5 = history.history\n",
        "acc_test5 = history_dict_test5['acc']\n",
        "val_acc_test5 = history_dict_test5['val_acc']"
      ],
      "execution_count": 36,
      "outputs": [
        {
          "output_type": "stream",
          "text": [
            "Train on 15000 samples, validate on 10000 samples\n",
            "Epoch 1/4\n",
            "15000/15000 [==============================] - 2s 108us/step - loss: 0.5954 - acc: 0.7588 - val_loss: 0.5008 - val_acc: 0.8470\n",
            "Epoch 2/4\n",
            "15000/15000 [==============================] - 2s 102us/step - loss: 0.4285 - acc: 0.8807 - val_loss: 0.4048 - val_acc: 0.8725\n",
            "Epoch 3/4\n",
            "15000/15000 [==============================] - 2s 100us/step - loss: 0.3267 - acc: 0.9102 - val_loss: 0.3352 - val_acc: 0.8839\n",
            "Epoch 4/4\n",
            "15000/15000 [==============================] - 2s 103us/step - loss: 0.2595 - acc: 0.9251 - val_loss: 0.3043 - val_acc: 0.8851\n",
            "25000/25000 [==============================] - 1s 59us/step\n"
          ],
          "name": "stdout"
        }
      ]
    },
    {
      "cell_type": "markdown",
      "metadata": {
        "id": "sdjm6TV6hq-i",
        "colab_type": "text"
      },
      "source": [
        "은닉층의 유닛을 8로 놓고 사용한 경우의 training accuracy, validation accuracy, test accuracy"
      ]
    },
    {
      "cell_type": "code",
      "metadata": {
        "id": "Zd2PZqD7hoXV",
        "colab_type": "code",
        "outputId": "e11c3434-0b44-4e39-809c-4177b9d2d063",
        "colab": {
          "base_uri": "https://localhost:8080/",
          "height": 0
        }
      },
      "source": [
        "print(acc_test5[3])\n",
        "print(val_acc_test5[3])\n",
        "print(results_test5[1])"
      ],
      "execution_count": 37,
      "outputs": [
        {
          "output_type": "stream",
          "text": [
            "0.92506665\n",
            "0.8851000070571899\n",
            "0.8801199793815613\n"
          ],
          "name": "stdout"
        }
      ]
    },
    {
      "cell_type": "markdown",
      "metadata": {
        "id": "qZh1ZVYEituJ",
        "colab_type": "text"
      },
      "source": [
        "## 다양한 활성화 함수 사용해보기"
      ]
    },
    {
      "cell_type": "code",
      "metadata": {
        "id": "4H9tvy7chtrI",
        "colab_type": "code",
        "outputId": "19017c37-f0be-4026-ca23-52c10dc8d5b0",
        "colab": {
          "base_uri": "https://localhost:8080/",
          "height": 197
        }
      },
      "source": [
        "model_test6 = models.Sequential()\n",
        "model_test6.add(layers.Dense(16, activation='tanh', input_shape = (10000,)))\n",
        "model_test6.add(layers.Dense(16, activation='tanh'))\n",
        "model_test6.add(layers.Dense(1, activation='sigmoid'))\n",
        "\n",
        "model_test6.compile(optimizer='rmsprop',\n",
        "                    loss='binary_crossentropy',\n",
        "                    metrics=['acc'])\n",
        "\n",
        "history = model_test6.fit(partial_x_train,\n",
        "                          partial_y_train,\n",
        "                          epochs=4,\n",
        "                          batch_size=512,\n",
        "                          validation_data=(x_val, y_val))\n",
        "\n",
        "results_test6 = model_test6.evaluate(x_test, y_test) \n",
        "\n",
        "history_dict_test6 = history.history\n",
        "acc_test6 = history_dict_test6['acc']\n",
        "val_acc_test6 = history_dict_test6['val_acc']"
      ],
      "execution_count": 38,
      "outputs": [
        {
          "output_type": "stream",
          "text": [
            "Train on 15000 samples, validate on 10000 samples\n",
            "Epoch 1/4\n",
            "15000/15000 [==============================] - 2s 111us/step - loss: 0.4793 - acc: 0.7931 - val_loss: 0.3567 - val_acc: 0.8711\n",
            "Epoch 2/4\n",
            "15000/15000 [==============================] - 2s 103us/step - loss: 0.2736 - acc: 0.9099 - val_loss: 0.2989 - val_acc: 0.8815\n",
            "Epoch 3/4\n",
            "15000/15000 [==============================] - 2s 103us/step - loss: 0.1942 - acc: 0.9339 - val_loss: 0.2727 - val_acc: 0.8886\n",
            "Epoch 4/4\n",
            "15000/15000 [==============================] - 2s 104us/step - loss: 0.1456 - acc: 0.9519 - val_loss: 0.3468 - val_acc: 0.8639\n",
            "25000/25000 [==============================] - 2s 61us/step\n"
          ],
          "name": "stdout"
        }
      ]
    },
    {
      "cell_type": "markdown",
      "metadata": {
        "id": "NdBrfGzJjJqw",
        "colab_type": "text"
      },
      "source": [
        "활성화 함수를 relu함수가 아닌 tanh함수를 사용한 경우의 training accuracy, validation accuracy, test accuracy"
      ]
    },
    {
      "cell_type": "code",
      "metadata": {
        "id": "huTl2iU6jGER",
        "colab_type": "code",
        "outputId": "3b7f7cae-a2bd-488a-c45b-7e39b0071d6d",
        "colab": {
          "base_uri": "https://localhost:8080/",
          "height": 71
        }
      },
      "source": [
        "print(acc_test6[3])\n",
        "print(val_acc_test6[3])\n",
        "print(results_test6[1])"
      ],
      "execution_count": 39,
      "outputs": [
        {
          "output_type": "stream",
          "text": [
            "0.9518667\n",
            "0.8639000058174133\n",
            "0.853600025177002\n"
          ],
          "name": "stdout"
        }
      ]
    },
    {
      "cell_type": "markdown",
      "metadata": {
        "id": "4bBRGx5fjzA9",
        "colab_type": "text"
      },
      "source": [
        "## 다양한 loss 함수 사용하기"
      ]
    },
    {
      "cell_type": "code",
      "metadata": {
        "id": "W63kr4VmjSnh",
        "colab_type": "code",
        "outputId": "109a363d-37a5-44f8-8c23-4e9cbec5bda3",
        "colab": {
          "base_uri": "https://localhost:8080/",
          "height": 197
        }
      },
      "source": [
        "model_test7 = models.Sequential()\n",
        "model_test7.add(layers.Dense(16, activation='relu', input_shape = (10000,)))\n",
        "model_test7.add(layers.Dense(16, activation='relu'))\n",
        "model_test7.add(layers.Dense(1, activation='sigmoid'))\n",
        "\n",
        "model_test7.compile(optimizer='rmsprop',\n",
        "                    loss='mse',\n",
        "                    metrics=['acc'])\n",
        "\n",
        "history = model_test7.fit(partial_x_train,\n",
        "                          partial_y_train,\n",
        "                          epochs=4,\n",
        "                          batch_size=512,\n",
        "                          validation_data=(x_val, y_val))\n",
        "\n",
        "results_test7 = model_test7.evaluate(x_test, y_test) \n",
        "\n",
        "history_dict_test7 = history.history\n",
        "acc_test7 = history_dict_test7['acc']\n",
        "val_acc_test7 = history_dict_test7['val_acc']"
      ],
      "execution_count": 40,
      "outputs": [
        {
          "output_type": "stream",
          "text": [
            "Train on 15000 samples, validate on 10000 samples\n",
            "Epoch 1/4\n",
            "15000/15000 [==============================] - 2s 110us/step - loss: 0.1713 - acc: 0.7837 - val_loss: 0.1295 - val_acc: 0.8427\n",
            "Epoch 2/4\n",
            "15000/15000 [==============================] - 2s 104us/step - loss: 0.0920 - acc: 0.9034 - val_loss: 0.0938 - val_acc: 0.8878\n",
            "Epoch 3/4\n",
            "15000/15000 [==============================] - 2s 104us/step - loss: 0.0653 - acc: 0.9294 - val_loss: 0.0855 - val_acc: 0.8916\n",
            "Epoch 4/4\n",
            "15000/15000 [==============================] - 2s 104us/step - loss: 0.0506 - acc: 0.9457 - val_loss: 0.0966 - val_acc: 0.8682\n",
            "25000/25000 [==============================] - 1s 59us/step\n"
          ],
          "name": "stdout"
        }
      ]
    },
    {
      "cell_type": "markdown",
      "metadata": {
        "id": "gfRvyC7lkUMG",
        "colab_type": "text"
      },
      "source": [
        "loss함수를 binary_crossentropy가 아닌 mse 함수를 사용한 경우의 training accuracy, validation accuracy, test accuracy"
      ]
    },
    {
      "cell_type": "code",
      "metadata": {
        "id": "F0jgDcvTkQEl",
        "colab_type": "code",
        "outputId": "1d2aa8e8-3c37-4e01-e824-431d12db9da7",
        "colab": {
          "base_uri": "https://localhost:8080/",
          "height": 71
        }
      },
      "source": [
        "print(acc_test7[3])\n",
        "print(val_acc_test7[3])\n",
        "print(results_test7[1])"
      ],
      "execution_count": 41,
      "outputs": [
        {
          "output_type": "stream",
          "text": [
            "0.9457333\n",
            "0.8682000041007996\n",
            "0.8551200032234192\n"
          ],
          "name": "stdout"
        }
      ]
    },
    {
      "cell_type": "markdown",
      "metadata": {
        "id": "W1lmB759l8MW",
        "colab_type": "text"
      },
      "source": [
        "### model.fit(x_train, y_train, epochs=10, batch_size=100)"
      ]
    },
    {
      "cell_type": "code",
      "metadata": {
        "id": "FWVZ68dlkdZT",
        "colab_type": "code",
        "outputId": "b8d9fc53-fa9c-451f-84c2-d4765a6df380",
        "colab": {
          "base_uri": "https://localhost:8080/",
          "height": 395
        }
      },
      "source": [
        "model_test8 = models.Sequential()\n",
        "model_test8.add(layers.Dense(16, activation='relu', input_shape = (10000,)))\n",
        "model_test8.add(layers.Dense(16, activation='relu'))\n",
        "model_test8.add(layers.Dense(1, activation='sigmoid'))\n",
        "\n",
        "model_test8.compile(optimizer='rmsprop',\n",
        "                    loss='mse',\n",
        "                    metrics=['acc'])\n",
        "\n",
        "history = model_test8.fit(x_train,\n",
        "                          y_train,\n",
        "                          epochs=10,\n",
        "                          batch_size=100,\n",
        "                          )\n",
        "\n",
        "results_test8 = model_test8.evaluate(x_test, y_test) \n",
        "\n",
        "history_dict_test8 = history.history\n",
        "acc_test8 = history_dict_test8['acc']"
      ],
      "execution_count": 42,
      "outputs": [
        {
          "output_type": "stream",
          "text": [
            "Epoch 1/10\n",
            "25000/25000 [==============================] - 3s 109us/step - loss: 0.1106 - acc: 0.8644\n",
            "Epoch 2/10\n",
            "25000/25000 [==============================] - 3s 109us/step - loss: 0.0604 - acc: 0.9219\n",
            "Epoch 3/10\n",
            "25000/25000 [==============================] - 3s 106us/step - loss: 0.0480 - acc: 0.9394\n",
            "Epoch 4/10\n",
            "25000/25000 [==============================] - 3s 106us/step - loss: 0.0398 - acc: 0.9506\n",
            "Epoch 5/10\n",
            "25000/25000 [==============================] - 3s 105us/step - loss: 0.0335 - acc: 0.9597\n",
            "Epoch 6/10\n",
            "25000/25000 [==============================] - 3s 104us/step - loss: 0.0287 - acc: 0.9652\n",
            "Epoch 7/10\n",
            "25000/25000 [==============================] - 3s 102us/step - loss: 0.0244 - acc: 0.9725\n",
            "Epoch 8/10\n",
            "25000/25000 [==============================] - 3s 101us/step - loss: 0.0210 - acc: 0.9765\n",
            "Epoch 9/10\n",
            "25000/25000 [==============================] - 2s 97us/step - loss: 0.0182 - acc: 0.9790\n",
            "Epoch 10/10\n",
            "25000/25000 [==============================] - 2s 99us/step - loss: 0.0151 - acc: 0.9834\n",
            "25000/25000 [==============================] - 2s 61us/step\n"
          ],
          "name": "stdout"
        }
      ]
    },
    {
      "cell_type": "markdown",
      "metadata": {
        "id": "BaBlpn0tm_CR",
        "colab_type": "text"
      },
      "source": [
        "model.fit(x_train, y_train, epochs=10, batch_size=100)로 한 경우의 training accuracy와 test accuracy"
      ]
    },
    {
      "cell_type": "code",
      "metadata": {
        "id": "5skf56jpm9-S",
        "colab_type": "code",
        "outputId": "1b1e565c-f7a6-4c34-f1e6-fda9aa88f0c4",
        "colab": {
          "base_uri": "https://localhost:8080/",
          "height": 53
        }
      },
      "source": [
        "print(acc_test8[9])\n",
        "print(results_test8[1])"
      ],
      "execution_count": 43,
      "outputs": [
        {
          "output_type": "stream",
          "text": [
            "0.98344\n",
            "0.858959972858429\n"
          ],
          "name": "stdout"
        }
      ]
    },
    {
      "cell_type": "code",
      "metadata": {
        "id": "laudxW3anNuK",
        "colab_type": "code",
        "outputId": "0ddcaac9-ea9a-408c-db0a-43abb4420cfb",
        "colab": {
          "base_uri": "https://localhost:8080/",
          "height": 295
        }
      },
      "source": [
        "plt.clf()\n",
        "\n",
        "epochs = range(1, len(acc_test8) + 1)\n",
        "plt.plot(epochs, acc_test8, 'bo', label = 'Training acc')\n",
        "plt.title('Training accuracy')\n",
        "plt.xlabel('Epochs')\n",
        "plt.ylabel('Accuracy')\n",
        "\n",
        "plt.show()"
      ],
      "execution_count": 44,
      "outputs": [
        {
          "output_type": "display_data",
          "data": {
            "image/png": "[encoded data removed]",
            "text/plain": [
              "<Figure size 432x288 with 1 Axes>"
            ]
          },
          "metadata": {
            "tags": [],
            "needs_background": "light"
          }
        }
      ]
    },
    {
      "cell_type": "code",
      "metadata": {
        "id": "t_ZNE-Uxot2G",
        "colab_type": "code",
        "outputId": "1d63dd7a-1d7f-48cc-e7bc-ff6708f7a623",
        "colab": {
          "base_uri": "https://localhost:8080/",
          "height": 269
        }
      },
      "source": [
        "model_test8.summary()"
      ],
      "execution_count": 45,
      "outputs": [
        {
          "output_type": "stream",
          "text": [
            "Model: \"sequential_12\"\n",
            "_________________________________________________________________\n",
            "Layer (type)                 Output Shape              Param #   \n",
            "=================================================================\n",
            "dense_34 (Dense)             (None, 16)                160016    \n",
            "_________________________________________________________________\n",
            "dense_35 (Dense)             (None, 16)                272       \n",
            "_________________________________________________________________\n",
            "dense_36 (Dense)             (None, 1)                 17        \n",
            "=================================================================\n",
            "Total params: 160,305\n",
            "Trainable params: 160,305\n",
            "Non-trainable params: 0\n",
            "_________________________________________________________________\n"
          ],
          "name": "stdout"
        }
      ]
    },
    {
      "cell_type": "code",
      "metadata": {
        "id": "LTHaGex7vySH",
        "colab_type": "code",
        "colab": {}
      },
      "source": [
        ""
      ],
      "execution_count": 0,
      "outputs": []
    }
  ]
}